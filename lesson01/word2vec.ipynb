{
 "cells": [
  {
   "cell_type": "code",
   "execution_count": null,
   "id": "7f66b5b4",
   "metadata": {},
   "outputs": [
    {
     "name": "stdout",
     "output_type": "stream",
     "text": [
      "Collecting nltk\n",
      "  Downloading nltk-3.9.1-py3-none-any.whl.metadata (2.9 kB)\n",
      "Collecting gensim\n",
      "  Downloading gensim-4.3.3-cp311-cp311-win_amd64.whl.metadata (8.2 kB)\n",
      "Collecting click (from nltk)\n",
      "  Using cached click-8.2.1-py3-none-any.whl.metadata (2.5 kB)\n",
      "Collecting joblib (from nltk)\n",
      "  Downloading joblib-1.5.2-py3-none-any.whl.metadata (5.6 kB)\n",
      "Requirement already satisfied: regex>=2021.8.3 in c:\\users\\i-dle\\anaconda3\\envs\\qnn311\\lib\\site-packages (from nltk) (2024.11.6)\n",
      "Requirement already satisfied: tqdm in c:\\users\\i-dle\\anaconda3\\envs\\qnn311\\lib\\site-packages (from nltk) (4.67.1)\n",
      "Collecting numpy<2.0,>=1.18.5 (from gensim)\n",
      "  Using cached numpy-1.26.4-cp311-cp311-win_amd64.whl.metadata (61 kB)\n",
      "Collecting scipy<1.14.0,>=1.7.0 (from gensim)\n",
      "  Downloading scipy-1.13.1-cp311-cp311-win_amd64.whl.metadata (60 kB)\n",
      "Collecting smart-open>=1.8.1 (from gensim)\n",
      "  Downloading smart_open-7.3.1-py3-none-any.whl.metadata (24 kB)\n",
      "Collecting wrapt (from smart-open>=1.8.1->gensim)\n",
      "  Downloading wrapt-1.17.3-cp311-cp311-win_amd64.whl.metadata (6.5 kB)\n",
      "Requirement already satisfied: colorama in c:\\users\\i-dle\\anaconda3\\envs\\qnn311\\lib\\site-packages (from click->nltk) (0.4.6)\n",
      "Downloading nltk-3.9.1-py3-none-any.whl (1.5 MB)\n",
      "   ---------------------------------------- 0.0/1.5 MB ? eta -:--:--\n",
      "   ---------------------------------------- 1.5/1.5 MB 15.7 MB/s eta 0:00:00\n",
      "Downloading gensim-4.3.3-cp311-cp311-win_amd64.whl (24.0 MB)\n",
      "   ---------------------------------------- 0.0/24.0 MB ? eta -:--:--\n",
      "   ------ --------------------------------- 4.2/24.0 MB 28.1 MB/s eta 0:00:01\n",
      "   -------- ------------------------------- 5.0/24.0 MB 12.1 MB/s eta 0:00:02\n",
      "   ------------------ --------------------- 11.0/24.0 MB 17.2 MB/s eta 0:00:01\n",
      "   ----------------------------------- ---- 21.5/24.0 MB 25.2 MB/s eta 0:00:01\n",
      "   ---------------------------------------- 24.0/24.0 MB 24.5 MB/s eta 0:00:00\n",
      "Using cached numpy-1.26.4-cp311-cp311-win_amd64.whl (15.8 MB)\n",
      "Downloading scipy-1.13.1-cp311-cp311-win_amd64.whl (46.2 MB)\n",
      "   ---------------------------------------- 0.0/46.2 MB ? eta -:--:--\n",
      "   ------- -------------------------------- 8.9/46.2 MB 46.0 MB/s eta 0:00:01\n",
      "   ------------- -------------------------- 16.0/46.2 MB 38.6 MB/s eta 0:00:01\n",
      "   ------------------ --------------------- 21.8/46.2 MB 33.5 MB/s eta 0:00:01\n",
      "   --------------------- ------------------ 24.4/46.2 MB 30.8 MB/s eta 0:00:01\n",
      "   ------------------------- -------------- 29.1/46.2 MB 27.1 MB/s eta 0:00:01\n",
      "   ------------------------------------ --- 41.7/46.2 MB 32.3 MB/s eta 0:00:01\n",
      "   ---------------------------------------  46.1/46.2 MB 33.7 MB/s eta 0:00:01\n",
      "   ---------------------------------------- 46.2/46.2 MB 30.3 MB/s eta 0:00:00\n",
      "Downloading smart_open-7.3.1-py3-none-any.whl (61 kB)\n",
      "Using cached click-8.2.1-py3-none-any.whl (102 kB)\n",
      "Downloading joblib-1.5.2-py3-none-any.whl (308 kB)\n",
      "Downloading wrapt-1.17.3-cp311-cp311-win_amd64.whl (38 kB)\n",
      "Installing collected packages: wrapt, numpy, joblib, click, smart-open, scipy, nltk, gensim\n",
      "\n",
      "  Attempting uninstall: numpy\n",
      "\n",
      "    Found existing installation: numpy 2.0.1\n",
      "\n",
      "   ----- ---------------------------------- 1/8 [numpy]\n",
      "   ----- ---------------------------------- 1/8 [numpy]\n",
      "   ----- ---------------------------------- 1/8 [numpy]\n",
      "   ----- ---------------------------------- 1/8 [numpy]\n",
      "    Uninstalling numpy-2.0.1:\n",
      "   ----- ---------------------------------- 1/8 [numpy]\n",
      "   ----- ---------------------------------- 1/8 [numpy]\n",
      "   ----- ---------------------------------- 1/8 [numpy]\n",
      "   ----- ---------------------------------- 1/8 [numpy]\n",
      "   ----- ---------------------------------- 1/8 [numpy]\n",
      "   ----- ---------------------------------- 1/8 [numpy]\n",
      "   ----- ---------------------------------- 1/8 [numpy]\n",
      "   ----- ---------------------------------- 1/8 [numpy]\n",
      "   ----- ---------------------------------- 1/8 [numpy]\n",
      "   ----- ---------------------------------- 1/8 [numpy]\n",
      "   ----- ---------------------------------- 1/8 [numpy]\n",
      "      Successfully uninstalled numpy-2.0.1\n",
      "   ----- ---------------------------------- 1/8 [numpy]\n",
      "   ----- ---------------------------------- 1/8 [numpy]\n",
      "   ----- ---------------------------------- 1/8 [numpy]\n",
      "   ----- ---------------------------------- 1/8 [numpy]\n",
      "   ----- ---------------------------------- 1/8 [numpy]\n",
      "   ----- ---------------------------------- 1/8 [numpy]\n",
      "   ----- ---------------------------------- 1/8 [numpy]\n",
      "   ----- ---------------------------------- 1/8 [numpy]\n",
      "   ----- ---------------------------------- 1/8 [numpy]\n",
      "   ----- ---------------------------------- 1/8 [numpy]\n",
      "   ----- ---------------------------------- 1/8 [numpy]\n",
      "   ----- ---------------------------------- 1/8 [numpy]\n",
      "   ----- ---------------------------------- 1/8 [numpy]\n",
      "   ----- ---------------------------------- 1/8 [numpy]\n",
      "   ----- ---------------------------------- 1/8 [numpy]\n",
      "   ----- ---------------------------------- 1/8 [numpy]\n",
      "   ----- ---------------------------------- 1/8 [numpy]\n",
      "   ----- ---------------------------------- 1/8 [numpy]\n",
      "   ----- ---------------------------------- 1/8 [numpy]\n",
      "   ----- ---------------------------------- 1/8 [numpy]\n",
      "   ----- ---------------------------------- 1/8 [numpy]\n",
      "   ----- ---------------------------------- 1/8 [numpy]\n",
      "   ----- ---------------------------------- 1/8 [numpy]\n",
      "   ----- ---------------------------------- 1/8 [numpy]\n",
      "   ----- ---------------------------------- 1/8 [numpy]\n",
      "   ----- ---------------------------------- 1/8 [numpy]\n",
      "   ----- ---------------------------------- 1/8 [numpy]\n",
      "   ----- ---------------------------------- 1/8 [numpy]\n",
      "   ----- ---------------------------------- 1/8 [numpy]\n",
      "   ----- ---------------------------------- 1/8 [numpy]\n",
      "   ----- ---------------------------------- 1/8 [numpy]\n",
      "   ----- ---------------------------------- 1/8 [numpy]\n",
      "   ----- ---------------------------------- 1/8 [numpy]\n",
      "   ---------- ----------------------------- 2/8 [joblib]\n",
      "   ---------- ----------------------------- 2/8 [joblib]\n",
      "   ---------- ----------------------------- 2/8 [joblib]\n",
      "   --------------- ------------------------ 3/8 [click]\n",
      "   -------------------- ------------------- 4/8 [smart-open]\n",
      "   ------------------------- -------------- 5/8 [scipy]\n",
      "   ------------------------- -------------- 5/8 [scipy]\n",
      "   ------------------------- -------------- 5/8 [scipy]\n",
      "   ------------------------- -------------- 5/8 [scipy]\n",
      "   ------------------------- -------------- 5/8 [scipy]\n",
      "   ------------------------- -------------- 5/8 [scipy]\n",
      "   ------------------------- -------------- 5/8 [scipy]\n",
      "   ------------------------- -------------- 5/8 [scipy]\n",
      "   ------------------------- -------------- 5/8 [scipy]\n",
      "   ------------------------- -------------- 5/8 [scipy]\n",
      "   ------------------------- -------------- 5/8 [scipy]\n",
      "   ------------------------- -------------- 5/8 [scipy]\n",
      "   ------------------------- -------------- 5/8 [scipy]\n",
      "   ------------------------- -------------- 5/8 [scipy]\n",
      "   ------------------------- -------------- 5/8 [scipy]\n",
      "   ------------------------- -------------- 5/8 [scipy]\n",
      "   ------------------------- -------------- 5/8 [scipy]\n",
      "   ------------------------- -------------- 5/8 [scipy]\n",
      "   ------------------------- -------------- 5/8 [scipy]\n",
      "   ------------------------- -------------- 5/8 [scipy]\n",
      "   ------------------------- -------------- 5/8 [scipy]\n",
      "   ------------------------- -------------- 5/8 [scipy]\n",
      "   ------------------------- -------------- 5/8 [scipy]\n",
      "   ------------------------- -------------- 5/8 [scipy]\n",
      "   ------------------------- -------------- 5/8 [scipy]\n",
      "   ------------------------- -------------- 5/8 [scipy]\n",
      "   ------------------------- -------------- 5/8 [scipy]\n",
      "   ------------------------- -------------- 5/8 [scipy]\n",
      "   ------------------------- -------------- 5/8 [scipy]\n",
      "   ------------------------- -------------- 5/8 [scipy]\n",
      "   ------------------------- -------------- 5/8 [scipy]\n",
      "   ------------------------- -------------- 5/8 [scipy]\n",
      "   ------------------------- -------------- 5/8 [scipy]\n",
      "   ------------------------- -------------- 5/8 [scipy]\n",
      "   ------------------------- -------------- 5/8 [scipy]\n",
      "   ------------------------- -------------- 5/8 [scipy]\n",
      "   ------------------------- -------------- 5/8 [scipy]\n",
      "   ------------------------- -------------- 5/8 [scipy]\n",
      "   ------------------------- -------------- 5/8 [scipy]\n",
      "   ------------------------- -------------- 5/8 [scipy]\n",
      "   ------------------------- -------------- 5/8 [scipy]\n",
      "   ------------------------- -------------- 5/8 [scipy]\n",
      "   ------------------------- -------------- 5/8 [scipy]\n",
      "   ------------------------- -------------- 5/8 [scipy]\n",
      "   ------------------------- -------------- 5/8 [scipy]\n",
      "   ------------------------- -------------- 5/8 [scipy]\n",
      "   ------------------------- -------------- 5/8 [scipy]\n",
      "   ------------------------- -------------- 5/8 [scipy]\n",
      "   ------------------------- -------------- 5/8 [scipy]\n",
      "   ------------------------- -------------- 5/8 [scipy]\n",
      "   ------------------------- -------------- 5/8 [scipy]\n",
      "   ------------------------------ --------- 6/8 [nltk]\n",
      "   ------------------------------ --------- 6/8 [nltk]\n",
      "   ------------------------------ --------- 6/8 [nltk]\n",
      "   ------------------------------ --------- 6/8 [nltk]\n",
      "   ------------------------------ --------- 6/8 [nltk]\n",
      "   ------------------------------ --------- 6/8 [nltk]\n",
      "   ------------------------------ --------- 6/8 [nltk]\n",
      "   ------------------------------ --------- 6/8 [nltk]\n",
      "   ------------------------------ --------- 6/8 [nltk]\n",
      "   ------------------------------ --------- 6/8 [nltk]\n",
      "   ------------------------------ --------- 6/8 [nltk]\n",
      "   ------------------------------ --------- 6/8 [nltk]\n",
      "   ------------------------------ --------- 6/8 [nltk]\n",
      "   ------------------------------ --------- 6/8 [nltk]\n",
      "   ----------------------------------- ---- 7/8 [gensim]\n",
      "   ----------------------------------- ---- 7/8 [gensim]\n",
      "   ----------------------------------- ---- 7/8 [gensim]\n",
      "   ----------------------------------- ---- 7/8 [gensim]\n",
      "   ----------------------------------- ---- 7/8 [gensim]\n",
      "   ----------------------------------- ---- 7/8 [gensim]\n",
      "   ----------------------------------- ---- 7/8 [gensim]\n",
      "   ----------------------------------- ---- 7/8 [gensim]\n",
      "   ----------------------------------- ---- 7/8 [gensim]\n",
      "   ---------------------------------------- 8/8 [gensim]\n",
      "\n",
      "Successfully installed click-8.2.1 gensim-4.3.3 joblib-1.5.2 nltk-3.9.1 numpy-1.26.4 scipy-1.13.1 smart-open-7.3.1 wrapt-1.17.3\n"
     ]
    }
   ],
   "source": [
    "! pip install nltk gensim"
   ]
  },
  {
   "cell_type": "code",
   "execution_count": 2,
   "id": "98733992",
   "metadata": {},
   "outputs": [
    {
     "name": "stderr",
     "output_type": "stream",
     "text": [
      "[nltk_data] Downloading package brown to\n",
      "[nltk_data]     C:\\Users\\i-dle\\AppData\\Roaming\\nltk_data...\n",
      "[nltk_data]   Unzipping corpora\\brown.zip.\n"
     ]
    },
    {
     "data": {
      "text/plain": [
       "True"
      ]
     },
     "execution_count": 2,
     "metadata": {},
     "output_type": "execute_result"
    }
   ],
   "source": [
    "import nltk\n",
    "nltk.download('brown')"
   ]
  },
  {
   "cell_type": "code",
   "execution_count": 3,
   "id": "0c996ec8",
   "metadata": {},
   "outputs": [
    {
     "name": "stdout",
     "output_type": "stream",
     "text": [
      "['adventure', 'belles_lettres', 'editorial', 'fiction', 'government', 'hobbies', 'humor', 'learned', 'lore', 'mystery', 'news', 'religion', 'reviews', 'romance', 'science_fiction']\n",
      "[['The', 'Fulton', 'County', 'Grand', 'Jury', 'said', 'Friday', 'an', 'investigation', 'of', \"Atlanta's\", 'recent', 'primary', 'election', 'produced', '``', 'no', 'evidence', \"''\", 'that', 'any', 'irregularities', 'took', 'place', '.'], ['The', 'jury', 'further', 'said', 'in', 'term-end', 'presentments', 'that', 'the', 'City', 'Executive', 'Committee', ',', 'which', 'had', 'over-all', 'charge', 'of', 'the', 'election', ',', '``', 'deserves', 'the', 'praise', 'and', 'thanks', 'of', 'the', 'City', 'of', 'Atlanta', \"''\", 'for', 'the', 'manner', 'in', 'which', 'the', 'election', 'was', 'conducted', '.'], ['The', 'September-October', 'term', 'jury', 'had', 'been', 'charged', 'by', 'Fulton', 'Superior', 'Court', 'Judge', 'Durwood', 'Pye', 'to', 'investigate', 'reports', 'of', 'possible', '``', 'irregularities', \"''\", 'in', 'the', 'hard-fought', 'primary', 'which', 'was', 'won', 'by', 'Mayor-nominate', 'Ivan', 'Allen', 'Jr.', '.']]\n"
     ]
    }
   ],
   "source": [
    "from nltk.corpus import brown\n",
    "\n",
    "print(brown.categories())\n",
    "\n",
    "sentences = brown.sents()\n",
    "print(sentences[:3])"
   ]
  },
  {
   "cell_type": "code",
   "execution_count": 4,
   "id": "44ddbb7c",
   "metadata": {},
   "outputs": [
    {
     "name": "stderr",
     "output_type": "stream",
     "text": [
      "[nltk_data] Downloading package stopwords to\n",
      "[nltk_data]     C:\\Users\\i-dle\\AppData\\Roaming\\nltk_data...\n",
      "[nltk_data]   Unzipping corpora\\stopwords.zip.\n"
     ]
    }
   ],
   "source": [
    "import re\n",
    "from nltk.corpus import stopwords\n",
    "\n",
    "nltk.download('stopwords')\n",
    "stop_words = set(stopwords.words('english'))\n",
    "\n",
    "def preprocess(sentence):\n",
    "    return [re.sub(r'[^a-z]', '', w.lower()) for w in sentence if w.isalpha() and w.lower() not in stop_words]\n",
    "\n",
    "processed_sentences = [preprocess(s) for s in sentences]\n"
   ]
  },
  {
   "cell_type": "code",
   "execution_count": 5,
   "id": "0bdcaa42",
   "metadata": {},
   "outputs": [],
   "source": [
    "from gensim.models import Word2Vec\n",
    "\n",
    "model = Word2Vec(\n",
    "    sentences=processed_sentences,\n",
    "    vector_size=100,\n",
    "    window=5,\n",
    "    min_count=5,\n",
    "    workers=4, \n",
    "    sg=1 \n",
    ")"
   ]
  },
  {
   "cell_type": "code",
   "execution_count": 6,
   "id": "125e94d1",
   "metadata": {},
   "outputs": [],
   "source": [
    "model.save(\"brown_word2vec.model\")\n",
    "model = Word2Vec.load(\"brown_word2vec.model\")"
   ]
  },
  {
   "cell_type": "code",
   "execution_count": null,
   "id": "17e24a49",
   "metadata": {},
   "outputs": [
    {
     "name": "stdout",
     "output_type": "stream",
     "text": [
      "[('buy', 0.9163288474082947), ('call', 0.9003444910049438), ('earn', 0.881751298904419), ('probably', 0.8796035051345825), ('refused', 0.8785105347633362), ('fair', 0.8784470558166504), ('want', 0.8780184984207153), ('decided', 0.8779001235961914), ('expected', 0.8765968680381775), ('job', 0.8760935068130493)]\n",
      "[('federal', 0.9440683722496033), ('foreign', 0.9411236047744751), ('constitution', 0.9398396611213684), ('india', 0.9387828707695007), ('jurisdiction', 0.9349255561828613), ('rights', 0.9345338344573975), ('claims', 0.933124303817749), ('governments', 0.9317177534103394), ('union', 0.9311038255691528), ('authorized', 0.9284921288490295)]\n",
      "[-0.24056914  0.35980895 -0.0949569   0.3793528  -0.03936518 -0.23657712\n",
      "  0.3789111   0.2638004  -0.19725063 -0.17608172]\n",
      "[('sister', 0.919752836227417), ('audience', 0.9143310189247131), ('playing', 0.9140722751617432), ('lucy', 0.9128169417381287), ('anne', 0.9121008515357971), ('younger', 0.9116422533988953), ('golf', 0.9094809293746948), ('sick', 0.9078477621078491), ('busy', 0.9072979092597961), ('stanley', 0.9043645858764648)]\n"
     ]
    }
   ],
   "source": [
    "print(\"--- 단어 유사도 예시 ---\")\n",
    "print(model.wv.most_similar(\"money\"))\n",
    "print(model.wv.most_similar(\"government\"))\n",
    "\n",
    "\n",
    "print(\"--- 단어 벡터 예시 ---\")\n",
    "print(model.wv['money'][:10])  # 앞 10차원만 확인\n",
    "print(model.wv.most_similar(positive=['king','woman'], negative=['man']))"
   ]
  },
  {
   "cell_type": "code",
   "execution_count": 11,
   "id": "4fb71052",
   "metadata": {},
   "outputs": [
    {
     "name": "stdout",
     "output_type": "stream",
     "text": [
      "Collecting scikit-learn\n",
      "  Downloading scikit_learn-1.7.2-cp311-cp311-win_amd64.whl.metadata (11 kB)\n",
      "Requirement already satisfied: numpy>=1.22.0 in c:\\users\\i-dle\\anaconda3\\envs\\qnn311\\lib\\site-packages (from scikit-learn) (1.26.4)\n",
      "Requirement already satisfied: scipy>=1.8.0 in c:\\users\\i-dle\\anaconda3\\envs\\qnn311\\lib\\site-packages (from scikit-learn) (1.13.1)\n",
      "Requirement already satisfied: joblib>=1.2.0 in c:\\users\\i-dle\\anaconda3\\envs\\qnn311\\lib\\site-packages (from scikit-learn) (1.5.2)\n",
      "Collecting threadpoolctl>=3.1.0 (from scikit-learn)\n",
      "  Using cached threadpoolctl-3.6.0-py3-none-any.whl.metadata (13 kB)\n",
      "Downloading scikit_learn-1.7.2-cp311-cp311-win_amd64.whl (8.9 MB)\n",
      "   ---------------------------------------- 0.0/8.9 MB ? eta -:--:--\n",
      "   ------------------ --------------------- 4.2/8.9 MB 20.9 MB/s eta 0:00:01\n",
      "   ---------------------------------------- 8.9/8.9 MB 24.0 MB/s eta 0:00:00\n",
      "Using cached threadpoolctl-3.6.0-py3-none-any.whl (18 kB)\n",
      "Installing collected packages: threadpoolctl, scikit-learn\n",
      "\n",
      "   -------------------- ------------------- 1/2 [scikit-learn]\n",
      "   -------------------- ------------------- 1/2 [scikit-learn]\n",
      "   -------------------- ------------------- 1/2 [scikit-learn]\n",
      "   -------------------- ------------------- 1/2 [scikit-learn]\n",
      "   -------------------- ------------------- 1/2 [scikit-learn]\n",
      "   -------------------- ------------------- 1/2 [scikit-learn]\n",
      "   -------------------- ------------------- 1/2 [scikit-learn]\n",
      "   -------------------- ------------------- 1/2 [scikit-learn]\n",
      "   -------------------- ------------------- 1/2 [scikit-learn]\n",
      "   -------------------- ------------------- 1/2 [scikit-learn]\n",
      "   -------------------- ------------------- 1/2 [scikit-learn]\n",
      "   -------------------- ------------------- 1/2 [scikit-learn]\n",
      "   -------------------- ------------------- 1/2 [scikit-learn]\n",
      "   -------------------- ------------------- 1/2 [scikit-learn]\n",
      "   -------------------- ------------------- 1/2 [scikit-learn]\n",
      "   -------------------- ------------------- 1/2 [scikit-learn]\n",
      "   -------------------- ------------------- 1/2 [scikit-learn]\n",
      "   -------------------- ------------------- 1/2 [scikit-learn]\n",
      "   -------------------- ------------------- 1/2 [scikit-learn]\n",
      "   -------------------- ------------------- 1/2 [scikit-learn]\n",
      "   -------------------- ------------------- 1/2 [scikit-learn]\n",
      "   -------------------- ------------------- 1/2 [scikit-learn]\n",
      "   -------------------- ------------------- 1/2 [scikit-learn]\n",
      "   -------------------- ------------------- 1/2 [scikit-learn]\n",
      "   -------------------- ------------------- 1/2 [scikit-learn]\n",
      "   -------------------- ------------------- 1/2 [scikit-learn]\n",
      "   -------------------- ------------------- 1/2 [scikit-learn]\n",
      "   -------------------- ------------------- 1/2 [scikit-learn]\n",
      "   -------------------- ------------------- 1/2 [scikit-learn]\n",
      "   -------------------- ------------------- 1/2 [scikit-learn]\n",
      "   -------------------- ------------------- 1/2 [scikit-learn]\n",
      "   -------------------- ------------------- 1/2 [scikit-learn]\n",
      "   -------------------- ------------------- 1/2 [scikit-learn]\n",
      "   -------------------- ------------------- 1/2 [scikit-learn]\n",
      "   ---------------------------------------- 2/2 [scikit-learn]\n",
      "\n",
      "Successfully installed scikit-learn-1.7.2 threadpoolctl-3.6.0\n"
     ]
    }
   ],
   "source": [
    "! pip install scikit-learn"
   ]
  },
  {
   "cell_type": "code",
   "execution_count": 12,
   "id": "63408ef1",
   "metadata": {},
   "outputs": [
    {
     "data": {
      "image/png": "[encoded data removed]",
      "text/plain": [
       "<Figure size 640x480 with 1 Axes>"
      ]
     },
     "metadata": {},
     "output_type": "display_data"
    }
   ],
   "source": [
    "from sklearn.decomposition import PCA\n",
    "import matplotlib.pyplot as plt\n",
    "\n",
    "words = ['money','bank','loan','king','queen','man','woman']\n",
    "vectors = [model.wv[w] for w in words]\n",
    "\n",
    "pca = PCA(n_components=2)\n",
    "result = pca.fit_transform(vectors)\n",
    "\n",
    "plt.scatter(result[:,0], result[:,1])\n",
    "for i, word in enumerate(words):\n",
    "    plt.annotate(word, xy=(result[i,0], result[i,1]))\n",
    "plt.show()\n"
   ]
  }
 ],
 "metadata": {
  "kernelspec": {
   "display_name": "Python (qnn311)",
   "language": "python",
   "name": "qnn311"
  },
  "language_info": {
   "codemirror_mode": {
    "name": "ipython",
    "version": 3
   },
   "file_extension": ".py",
   "mimetype": "text/x-python",
   "name": "python",
   "nbconvert_exporter": "python",
   "pygments_lexer": "ipython3",
   "version": "3.11.0"
  }
 },
 "nbformat": 4,
 "nbformat_minor": 5
}
